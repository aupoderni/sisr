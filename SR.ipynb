{
 "cells": [
  {
   "cell_type": "code",
   "execution_count": null,
   "metadata": {},
   "outputs": [],
   "source": [
    "from tensorflow.keras.layers import Conv2D, concatenate\n",
    "from tensorflow.keras.models import Model \n",
    "from tensorflow.keras.callbacks import ModelCheckpoint, ReduceLROnPlateau\n",
    "from tensorflow.keras.layers import Input\n",
    "import numpy as np\n",
    "from PIL import Image\n",
    "import os\n",
    "import matplotlib.pyplot as plt\n",
    "from matplotlib.pyplot import imshow\n",
    "import matplotlib.gridspec as gridspec"
   ]
  },
  {
   "cell_type": "code",
   "execution_count": null,
   "metadata": {},
   "outputs": [],
   "source": [
    "def preproc_images(name, size):\n",
    "    x_train = []\n",
    "    y_train = []\n",
    "    for file in (os.listdir(name)):\n",
    "        img = Image.open(name + file).convert('RGB')\n",
    "        x = img.resize((size[0]//2, size[1]//2))\n",
    "        x = x.resize(size, Image.NEAREST)\n",
    "        x = np.array(x)\n",
    "        y = img.resize(size)\n",
    "        y = np.array(y)\n",
    "        \n",
    "        x_train.append(x)\n",
    "        y_train.append(y)\n",
    "        \n",
    "    x_train = np.array(x_train)\n",
    "    y_train = np.array(y_train)\n",
    "    x_train = x_train / 255\n",
    "    y_train = y_train / 255\n",
    "    \n",
    "    return x_train, y_train"
   ]
  },
  {
   "cell_type": "code",
   "execution_count": null,
   "metadata": {},
   "outputs": [],
   "source": [
    "x_train, y_train = preproc_images(\"Train/\", (128, 128))"
   ]
  },
  {
   "cell_type": "code",
   "execution_count": null,
   "metadata": {},
   "outputs": [],
   "source": [
    "input = Input(shape = (128,128, 3))\n",
    "conv1 = Conv2D(64, (3, 3), activation = 'relu', padding = 'same')(input)\n",
    "conv2 = Conv2D(64, (3, 3), activation = 'relu', padding = 'same')(conv1)\n",
    "\n",
    "level1 = Conv2D(64, (3, 3), activation='relu', padding = 'same')(conv2)\n",
    "level2 = Conv2D(64, (3, 3), activation='relu', padding = 'same')(conv2)\n",
    "level3 = Conv2D(64, (3, 3), activation='relu', padding = 'same')(conv2)\n",
    "\n",
    "concat = concatenate([level1, level2, level3], axis = 3)\n",
    "\n",
    "conv3 = Conv2D(32, (3, 3), activation = 'relu', padding = 'same')(concat)\n",
    "out = Conv2D(3, (3, 3), activation = 'sigmoid', padding = 'same')(conv3)\n",
    "\n",
    "model = Model(inputs = input, outputs = out)\n",
    "\n",
    "print (model.summary())"
   ]
  },
  {
   "cell_type": "code",
   "execution_count": null,
   "metadata": {},
   "outputs": [],
   "source": [
    "reduce_lr = ReduceLROnPlateau(monitor = 'val_loss',\n",
    "                              factor = 0.2,\n",
    "                              patience = 6,\n",
    "                              verbose = 1,\n",
    "                              min_delta = 0.0001)\n",
    "filepath = \"weights.hdf5\"\n",
    "\n",
    "checkpoint = ModelCheckpoint(filepath, \n",
    "                             monitor = 'val_loss', \n",
    "                             verbose = 1, \n",
    "                             save_best_only=True, \n",
    "                             mode = 'min')\n",
    "\n",
    "model.compile(loss = 'mse', optimizer = 'adam', metrics = ['accuracy'])"
   ]
  },
  {
   "cell_type": "code",
   "execution_count": null,
   "metadata": {},
   "outputs": [],
   "source": [
    "history = model.fit(x_train, y_train,validation_split = 0.2 , epochs = 100, batch_size = 4, callbacks = [checkpoint, reduce_lr])"
   ]
  },
  {
   "cell_type": "code",
   "execution_count": null,
   "metadata": {},
   "outputs": [],
   "source": [
    "def test_img(name, size):\n",
    "    x_test = []\n",
    "    for file in (os.listdir(name)):\n",
    "        img = Image.open(name + file).convert('RGB')\n",
    "        img = img.resize((size[0]//2, size[1]//2))\n",
    "        img = img.resize(size, Image.NEAREST)\n",
    "        img = np.array(img)\n",
    "        img = img / 255\n",
    "        img = np.array([img])\n",
    "        x_test.append(img) \n",
    "    return x_test"
   ]
  },
  {
   "cell_type": "code",
   "execution_count": null,
   "metadata": {},
   "outputs": [],
   "source": [
    "testimages = test_img(\"Test/\", (128, 128))"
   ]
  },
  {
   "cell_type": "code",
   "execution_count": null,
   "metadata": {},
   "outputs": [],
   "source": [
    "model.load_weights('weights.hdf5')"
   ]
  },
  {
   "cell_type": "code",
   "execution_count": null,
   "metadata": {},
   "outputs": [],
   "source": [
    "func, ax = plt.subplots(3, 2, sharex = 'col', sharey = 'row', gridspec_kw = {'hspace': 0, 'wspace': 0}, squeeze = True)\n",
    "plt.subplots_adjust(wspace = None, hspace = None)\n",
    "func.set_figheight(15)\n",
    "func.set_figwidth(15)\n",
    "a = 0\n",
    "k = 0\n",
    "for i in range(3):  \n",
    "    prediction = model.predict(testimages[a])\n",
    "    prediction = prediction[0] * 255\n",
    "    prediction = prediction.astype(np.uint8)\n",
    "    prediction = Image.fromarray(prediction)\n",
    "    ax[i][k].axis(\"off\")\n",
    "    ax[i][k].imshow(testimages[a].reshape(128, 128, 3))\n",
    "    ax[i][k + 1].axis(\"off\")\n",
    "    ax[i][k + 1].imshow(prediction)\n",
    "    a = a + 1\n",
    "plt.show(block = False)"
   ]
  },
  {
   "cell_type": "code",
   "execution_count": null,
   "metadata": {},
   "outputs": [],
   "source": []
  }
 ],
 "metadata": {
  "kernelspec": {
   "display_name": "Python 3",
   "language": "python",
   "name": "python3"
  },
  "language_info": {
   "codemirror_mode": {
    "name": "ipython",
    "version": 3
   },
   "file_extension": ".py",
   "mimetype": "text/x-python",
   "name": "python",
   "nbconvert_exporter": "python",
   "pygments_lexer": "ipython3",
   "version": "3.9.6"
  }
 },
 "nbformat": 4,
 "nbformat_minor": 1
}
